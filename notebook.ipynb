{
 "cells": [
  {
   "cell_type": "code",
   "execution_count": 241,
   "metadata": {},
   "outputs": [],
   "source": [
    "# package imports\n",
    "import numpy as np\n",
    "import pandas as pd\n",
    "from matplotlib import pyplot as plt"
   ]
  },
  {
   "cell_type": "code",
   "execution_count": 242,
   "metadata": {},
   "outputs": [],
   "source": [
    "# loading data\n",
    "data = pd.read_csv('mnist.csv')\n",
    "\n",
    "# shuffling before splitting into training and testing sets\n",
    "data = np.array(data)\n",
    "m, n = data.shape\n",
    "np.random.shuffle(data)\n",
    "\n",
    "test = data[0:1000].T\n",
    "Y_test = test[0]\n",
    "X_test = test[1:n]\n",
    "X_test = X_test / 255.\n",
    "\n",
    "train = data[1000:m].T\n",
    "Y_train = train[0]\n",
    "X_train = train[1:n]\n",
    "X_train = X_train / 255.\n",
    "_,m_train = X_train.shape"
   ]
  },
  {
   "cell_type": "code",
   "execution_count": 243,
   "metadata": {},
   "outputs": [],
   "source": [
    "def initial_parameters():\n",
    "    n_input = 784\n",
    "    n_hidden = 63\n",
    "    n_output = 10\n",
    "    \n",
    "    W1 = np.random.normal(loc=0, scale=np.sqrt(2/n_input), size=(n_hidden, n_input))\n",
    "    b1 = np.zeros((n_hidden, 1))\n",
    "    W2 = np.random.normal(loc=0, scale=np.sqrt(2/n_hidden), size=(n_output, n_hidden))\n",
    "    b2 = np.zeros((n_output, 1))\n",
    "    \n",
    "    return W1, b1, W2, b2\n",
    "\n",
    "# activation function for hidden layer\n",
    "def ReLU(Z):\n",
    "    return np.maximum(Z, 0)\n",
    "\n",
    "def ReLU_derivative(Z):\n",
    "    return Z > 0\n",
    "\n",
    "# activation function for output layer\n",
    "def softmax(Z):\n",
    "    A = np.exp(Z) / sum(np.exp(Z))\n",
    "    return A\n",
    "\n",
    "def forward_prop(W1, b1, W2, b2, X):\n",
    "    Z1 = W1.dot(X) + b1\n",
    "    A1 = ReLU(Z1)\n",
    "    Z2 = W2.dot(A1) + b2\n",
    "    A2 = softmax(Z2)\n",
    "    return Z1, A1, Z2, A2\n",
    "\n",
    "def one_hot(Y):\n",
    "    one_hot_Y = np.zeros((Y.size, Y.max() + 1))\n",
    "    one_hot_Y[np.arange(Y.size), Y] = 1\n",
    "    one_hot_Y = one_hot_Y.T\n",
    "    return one_hot_Y\n",
    "\n",
    "def backward_prop(Z1, A1, Z2, A2, W1, W2, X, Y):\n",
    "    one_hot_Y = one_hot(Y)\n",
    "    dZ2 = A2 - one_hot_Y\n",
    "    dW2 = 1 / m * dZ2.dot(A1.T)\n",
    "    db2 = 1 / m * np.sum(dZ2)\n",
    "    dZ1 = W2.T.dot(dZ2) * ReLU_derivative(Z1)\n",
    "    dW1 = 1 / m * dZ1.dot(X.T)\n",
    "    db1 = 1 / m * np.sum(dZ1)\n",
    "    return dW1, db1, dW2, db2\n",
    "\n",
    "def update_params(W1, b1, W2, b2, dW1, db1, dW2, db2, learning_rate):\n",
    "    W1 = W1 - learning_rate * dW1\n",
    "    b1 = b1 - learning_rate * db1    \n",
    "    W2 = W2 - learning_rate * dW2  \n",
    "    b2 = b2 - learning_rate * db2    \n",
    "    return W1, b1, W2, b2"
   ]
  },
  {
   "cell_type": "code",
   "execution_count": 244,
   "metadata": {},
   "outputs": [],
   "source": [
    "def get_predictions(A2):\n",
    "    return np.argmax(A2, 0)\n",
    "\n",
    "def get_accuracy(predictions, Y):\n",
    "    return np.sum(predictions == Y) / Y.size\n",
    "\n",
    "def gradient_descent(X, Y, learning_rate, iterations):\n",
    "    W1, b1, W2, b2 = initial_parameters()\n",
    "    prev_acc = 0\n",
    "    LR = learning_rate\n",
    "    for i in range(iterations):\n",
    "        Z1, A1, Z2, A2 = forward_prop(W1, b1, W2, b2, X)\n",
    "        dW1, db1, dW2, db2 = backward_prop(Z1, A1, Z2, A2, W1, W2, X, Y)\n",
    "        W1, b1, W2, b2 = update_params(W1, b1, W2, b2, dW1, db1, dW2, db2, LR)\n",
    "        if (i + 1) % 1 == 0:\n",
    "            print(f'Epochs: {i+1} | Learning rate: {LR}')\n",
    "            predictions = get_predictions(A2)\n",
    "            accuracy = get_accuracy(predictions, Y)\n",
    "            if prev_acc == 0:\n",
    "                percentage_change = accuracy * 100\n",
    "                prev_acc = accuracy\n",
    "            else:\n",
    "                percentage_change = ((accuracy - prev_acc) / prev_acc) * 100\n",
    "                prev_acc = accuracy\n",
    "            print(f\"Accuracy: {round(accuracy * 100, 2)}% | Change: {round(percentage_change, 2)}%\\n\")\n",
    "        if accuracy >= 0.72:\n",
    "            LR = 0.36\n",
    "            if accuracy >= 0.81:\n",
    "                LR = 0.27\n",
    "                if accuracy >= 0.9:\n",
    "                    LR = 0.18\n",
    "        else:\n",
    "            LR = learning_rate\n",
    "    return W1, b1, W2, b2"
   ]
  },
  {
   "cell_type": "code",
   "execution_count": 245,
   "metadata": {},
   "outputs": [
    {
     "name": "stdout",
     "output_type": "stream",
     "text": [
      "Epochs: 1 | Learning rate: 0.45\n",
      "Accuracy: 7.73% | Change: 7.73%\n",
      "\n",
      "Epochs: 2 | Learning rate: 0.45\n",
      "Accuracy: 20.83% | Change: 169.49%\n",
      "\n",
      "Epochs: 3 | Learning rate: 0.45\n",
      "Accuracy: 33.72% | Change: 61.91%\n",
      "\n",
      "Epochs: 4 | Learning rate: 0.45\n",
      "Accuracy: 52.52% | Change: 55.74%\n",
      "\n",
      "Epochs: 5 | Learning rate: 0.45\n",
      "Accuracy: 60.37% | Change: 14.94%\n",
      "\n",
      "Epochs: 6 | Learning rate: 0.45\n",
      "Accuracy: 65.72% | Change: 8.87%\n",
      "\n",
      "Epochs: 7 | Learning rate: 0.45\n",
      "Accuracy: 65.08% | Change: -0.98%\n",
      "\n",
      "Epochs: 8 | Learning rate: 0.45\n",
      "Accuracy: 51.75% | Change: -20.49%\n",
      "\n",
      "Epochs: 9 | Learning rate: 0.45\n",
      "Accuracy: 50.05% | Change: -3.27%\n",
      "\n",
      "Epochs: 10 | Learning rate: 0.45\n",
      "Accuracy: 60.32% | Change: 20.5%\n",
      "\n",
      "Epochs: 11 | Learning rate: 0.45\n",
      "Accuracy: 71.75% | Change: 18.96%\n",
      "\n",
      "Epochs: 12 | Learning rate: 0.45\n",
      "Accuracy: 76.72% | Change: 6.92%\n",
      "\n",
      "Epochs: 13 | Learning rate: 0.36\n",
      "Accuracy: 78.39% | Change: 2.17%\n",
      "\n",
      "Epochs: 14 | Learning rate: 0.36\n",
      "Accuracy: 78.65% | Change: 0.33%\n",
      "\n",
      "Epochs: 15 | Learning rate: 0.36\n",
      "Accuracy: 81.31% | Change: 3.39%\n",
      "\n",
      "Epochs: 16 | Learning rate: 0.27\n",
      "Accuracy: 81.96% | Change: 0.8%\n",
      "\n",
      "Epochs: 17 | Learning rate: 0.27\n",
      "Accuracy: 83.72% | Change: 2.15%\n",
      "\n",
      "Epochs: 18 | Learning rate: 0.27\n",
      "Accuracy: 84.45% | Change: 0.87%\n",
      "\n",
      "Epochs: 19 | Learning rate: 0.27\n",
      "Accuracy: 84.44% | Change: -0.02%\n",
      "\n",
      "Epochs: 20 | Learning rate: 0.27\n",
      "Accuracy: 84.8% | Change: 0.43%\n",
      "\n",
      "Epochs: 21 | Learning rate: 0.27\n",
      "Accuracy: 84.44% | Change: -0.43%\n",
      "\n",
      "Epochs: 22 | Learning rate: 0.27\n",
      "Accuracy: 84.63% | Change: 0.23%\n",
      "\n",
      "Epochs: 23 | Learning rate: 0.27\n",
      "Accuracy: 83.8% | Change: -0.98%\n",
      "\n",
      "Epochs: 24 | Learning rate: 0.27\n",
      "Accuracy: 83.7% | Change: -0.12%\n",
      "\n",
      "Epochs: 25 | Learning rate: 0.27\n",
      "Accuracy: 82.76% | Change: -1.12%\n",
      "\n",
      "Epochs: 26 | Learning rate: 0.27\n",
      "Accuracy: 82.57% | Change: -0.23%\n",
      "\n",
      "Epochs: 27 | Learning rate: 0.27\n",
      "Accuracy: 82.39% | Change: -0.22%\n",
      "\n",
      "Epochs: 28 | Learning rate: 0.27\n",
      "Accuracy: 82.96% | Change: 0.69%\n",
      "\n",
      "Epochs: 29 | Learning rate: 0.27\n",
      "Accuracy: 83.4% | Change: 0.54%\n",
      "\n",
      "Epochs: 30 | Learning rate: 0.27\n",
      "Accuracy: 84.63% | Change: 1.47%\n",
      "\n",
      "Epochs: 31 | Learning rate: 0.27\n",
      "Accuracy: 84.98% | Change: 0.41%\n",
      "\n",
      "Epochs: 32 | Learning rate: 0.27\n",
      "Accuracy: 86.09% | Change: 1.31%\n",
      "\n",
      "Epochs: 33 | Learning rate: 0.27\n",
      "Accuracy: 86.14% | Change: 0.06%\n",
      "\n",
      "Epochs: 34 | Learning rate: 0.27\n",
      "Accuracy: 86.89% | Change: 0.86%\n",
      "\n",
      "Epochs: 35 | Learning rate: 0.27\n",
      "Accuracy: 86.84% | Change: -0.06%\n",
      "\n",
      "Epochs: 36 | Learning rate: 0.27\n",
      "Accuracy: 87.42% | Change: 0.68%\n",
      "\n",
      "Epochs: 37 | Learning rate: 0.27\n",
      "Accuracy: 87.4% | Change: -0.03%\n",
      "\n",
      "Epochs: 38 | Learning rate: 0.27\n",
      "Accuracy: 87.79% | Change: 0.45%\n",
      "\n",
      "Epochs: 39 | Learning rate: 0.27\n",
      "Accuracy: 87.71% | Change: -0.1%\n",
      "\n",
      "Epochs: 40 | Learning rate: 0.27\n",
      "Accuracy: 87.99% | Change: 0.32%\n",
      "\n",
      "Epochs: 41 | Learning rate: 0.27\n",
      "Accuracy: 87.97% | Change: -0.02%\n",
      "\n",
      "Epochs: 42 | Learning rate: 0.27\n",
      "Accuracy: 88.2% | Change: 0.26%\n",
      "\n",
      "Epochs: 43 | Learning rate: 0.27\n",
      "Accuracy: 88.17% | Change: -0.03%\n",
      "\n",
      "Epochs: 44 | Learning rate: 0.27\n",
      "Accuracy: 88.36% | Change: 0.22%\n",
      "\n",
      "Epochs: 45 | Learning rate: 0.27\n",
      "Accuracy: 88.36% | Change: -0.01%\n",
      "\n",
      "Epochs: 46 | Learning rate: 0.27\n",
      "Accuracy: 88.5% | Change: 0.17%\n",
      "\n",
      "Epochs: 47 | Learning rate: 0.27\n",
      "Accuracy: 88.54% | Change: 0.04%\n",
      "\n",
      "Epochs: 48 | Learning rate: 0.27\n",
      "Accuracy: 88.67% | Change: 0.15%\n",
      "\n",
      "Epochs: 49 | Learning rate: 0.27\n",
      "Accuracy: 88.67% | Change: 0.0%\n",
      "\n",
      "Epochs: 50 | Learning rate: 0.27\n",
      "Accuracy: 88.79% | Change: 0.13%\n",
      "\n",
      "Epochs: 51 | Learning rate: 0.27\n",
      "Accuracy: 88.85% | Change: 0.07%\n",
      "\n",
      "Epochs: 52 | Learning rate: 0.27\n",
      "Accuracy: 88.9% | Change: 0.06%\n",
      "\n",
      "Epochs: 53 | Learning rate: 0.27\n",
      "Accuracy: 88.94% | Change: 0.04%\n",
      "\n",
      "Epochs: 54 | Learning rate: 0.27\n",
      "Accuracy: 89.03% | Change: 0.1%\n",
      "\n",
      "Epochs: 55 | Learning rate: 0.27\n",
      "Accuracy: 89.06% | Change: 0.03%\n",
      "\n",
      "Epochs: 56 | Learning rate: 0.27\n",
      "Accuracy: 89.12% | Change: 0.07%\n",
      "\n",
      "Epochs: 57 | Learning rate: 0.27\n",
      "Accuracy: 89.17% | Change: 0.06%\n",
      "\n",
      "Epochs: 58 | Learning rate: 0.27\n",
      "Accuracy: 89.22% | Change: 0.05%\n",
      "\n",
      "Epochs: 59 | Learning rate: 0.27\n",
      "Accuracy: 89.26% | Change: 0.04%\n",
      "\n",
      "Epochs: 60 | Learning rate: 0.27\n",
      "Accuracy: 89.32% | Change: 0.07%\n",
      "\n",
      "Epochs: 61 | Learning rate: 0.27\n",
      "Accuracy: 89.38% | Change: 0.06%\n",
      "\n",
      "Epochs: 62 | Learning rate: 0.27\n",
      "Accuracy: 89.44% | Change: 0.07%\n",
      "\n",
      "Epochs: 63 | Learning rate: 0.27\n",
      "Accuracy: 89.47% | Change: 0.03%\n",
      "\n",
      "Epochs: 64 | Learning rate: 0.27\n",
      "Accuracy: 89.54% | Change: 0.08%\n",
      "\n",
      "Epochs: 65 | Learning rate: 0.27\n",
      "Accuracy: 89.56% | Change: 0.02%\n",
      "\n",
      "Epochs: 66 | Learning rate: 0.27\n",
      "Accuracy: 89.63% | Change: 0.08%\n",
      "\n",
      "Epochs: 67 | Learning rate: 0.27\n",
      "Accuracy: 89.65% | Change: 0.02%\n",
      "\n",
      "Epochs: 68 | Learning rate: 0.27\n",
      "Accuracy: 89.72% | Change: 0.08%\n",
      "\n",
      "Epochs: 69 | Learning rate: 0.27\n",
      "Accuracy: 89.75% | Change: 0.04%\n",
      "\n",
      "Epochs: 70 | Learning rate: 0.27\n",
      "Accuracy: 89.81% | Change: 0.07%\n",
      "\n",
      "Epochs: 71 | Learning rate: 0.27\n",
      "Accuracy: 89.85% | Change: 0.04%\n",
      "\n",
      "Epochs: 72 | Learning rate: 0.27\n",
      "Accuracy: 89.9% | Change: 0.06%\n",
      "\n",
      "Epochs: 73 | Learning rate: 0.27\n",
      "Accuracy: 89.96% | Change: 0.07%\n",
      "\n",
      "Epochs: 74 | Learning rate: 0.27\n",
      "Accuracy: 90.01% | Change: 0.06%\n",
      "\n",
      "Epochs: 75 | Learning rate: 0.18\n",
      "Accuracy: 90.05% | Change: 0.05%\n",
      "\n",
      "Epochs: 76 | Learning rate: 0.18\n",
      "Accuracy: 90.09% | Change: 0.04%\n",
      "\n",
      "Epochs: 77 | Learning rate: 0.18\n",
      "Accuracy: 90.11% | Change: 0.02%\n",
      "\n",
      "Epochs: 78 | Learning rate: 0.18\n",
      "Accuracy: 90.14% | Change: 0.03%\n",
      "\n",
      "Epochs: 79 | Learning rate: 0.18\n",
      "Accuracy: 90.16% | Change: 0.02%\n",
      "\n",
      "Epochs: 80 | Learning rate: 0.18\n",
      "Accuracy: 90.19% | Change: 0.04%\n",
      "\n",
      "Epochs: 81 | Learning rate: 0.18\n",
      "Accuracy: 90.21% | Change: 0.02%\n",
      "\n",
      "Epochs: 82 | Learning rate: 0.18\n",
      "Accuracy: 90.22% | Change: 0.02%\n",
      "\n",
      "Epochs: 83 | Learning rate: 0.18\n",
      "Accuracy: 90.25% | Change: 0.03%\n",
      "\n",
      "Epochs: 84 | Learning rate: 0.18\n",
      "Accuracy: 90.28% | Change: 0.03%\n",
      "\n",
      "Epochs: 85 | Learning rate: 0.18\n",
      "Accuracy: 90.3% | Change: 0.03%\n",
      "\n",
      "Epochs: 86 | Learning rate: 0.18\n",
      "Accuracy: 90.31% | Change: 0.01%\n",
      "\n",
      "Epochs: 87 | Learning rate: 0.18\n",
      "Accuracy: 90.34% | Change: 0.03%\n",
      "\n",
      "Epochs: 88 | Learning rate: 0.18\n",
      "Accuracy: 90.36% | Change: 0.02%\n",
      "\n",
      "Epochs: 89 | Learning rate: 0.18\n",
      "Accuracy: 90.39% | Change: 0.04%\n",
      "\n",
      "Epochs: 90 | Learning rate: 0.18\n",
      "Accuracy: 90.39% | Change: 0.0%\n",
      "\n",
      "Epochs: 91 | Learning rate: 0.18\n",
      "Accuracy: 90.41% | Change: 0.02%\n",
      "\n",
      "Epochs: 92 | Learning rate: 0.18\n",
      "Accuracy: 90.43% | Change: 0.02%\n",
      "\n",
      "Epochs: 93 | Learning rate: 0.18\n",
      "Accuracy: 90.45% | Change: 0.03%\n",
      "\n",
      "Epochs: 94 | Learning rate: 0.18\n",
      "Accuracy: 90.46% | Change: 0.01%\n",
      "\n",
      "Epochs: 95 | Learning rate: 0.18\n",
      "Accuracy: 90.48% | Change: 0.02%\n",
      "\n",
      "Epochs: 96 | Learning rate: 0.18\n",
      "Accuracy: 90.49% | Change: 0.02%\n",
      "\n",
      "Epochs: 97 | Learning rate: 0.18\n",
      "Accuracy: 90.52% | Change: 0.04%\n",
      "\n",
      "Epochs: 98 | Learning rate: 0.18\n",
      "Accuracy: 90.54% | Change: 0.01%\n",
      "\n",
      "Epochs: 99 | Learning rate: 0.18\n",
      "Accuracy: 90.56% | Change: 0.03%\n",
      "\n",
      "Epochs: 100 | Learning rate: 0.18\n",
      "Accuracy: 90.57% | Change: 0.01%\n",
      "\n"
     ]
    }
   ],
   "source": [
    "W1, b1, W2, b2 = gradient_descent(X_train, Y_train, learning_rate=0.45, iterations=100)"
   ]
  },
  {
   "cell_type": "code",
   "execution_count": 246,
   "metadata": {},
   "outputs": [],
   "source": [
    "def make_predictions(X, W1, b1, W2, b2):\n",
    "    _, _, _, A2 = forward_prop(W1, b1, W2, b2, X)\n",
    "    predictions = get_predictions(A2)\n",
    "    return predictions\n",
    "\n",
    "def wrong_test_predictions(index, W1, b1, W2, b2):\n",
    "    current_image = X_test[:, index, None]\n",
    "    prediction = make_predictions(X_test[:, index, None], W1, b1, W2, b2)\n",
    "    label = Y_test[index]\n",
    "    if prediction != label:\n",
    "        print(\"Prediction: \", prediction)\n",
    "        print(\"Label: \", label)\n",
    "        current_image = current_image.reshape((28, 28)) * 255\n",
    "        plt.gray()\n",
    "        plt.imshow(current_image, interpolation='nearest')\n",
    "        plt.show()"
   ]
  },
  {
   "cell_type": "code",
   "execution_count": 247,
   "metadata": {},
   "outputs": [
    {
     "name": "stdout",
     "output_type": "stream",
     "text": [
      "Accuracy on test data: 87.6%\n"
     ]
    }
   ],
   "source": [
    "# making predictions on test data to see how model generalizes\n",
    "test_set_predictions = make_predictions(X_test, W1, b1, W2, b2)\n",
    "print(f\"Accuracy on test data: {round(get_accuracy(test_set_predictions, Y_test)*100, 2)}%\")"
   ]
  },
  {
   "cell_type": "code",
   "execution_count": 248,
   "metadata": {},
   "outputs": [
    {
     "name": "stdout",
     "output_type": "stream",
     "text": [
      "Prediction:  [4]\n",
      "Label:  9\n"
     ]
    },
    {
     "data": {
      "image/png": "[encoded data removed]",
      "text/plain": [
       "<Figure size 640x480 with 1 Axes>"
      ]
     },
     "metadata": {},
     "output_type": "display_data"
    },
    {
     "name": "stdout",
     "output_type": "stream",
     "text": [
      "Prediction:  [3]\n",
      "Label:  8\n"
     ]
    },
    {
     "data": {
      "image/png": "[encoded data removed]",
      "text/plain": [
       "<Figure size 640x480 with 1 Axes>"
      ]
     },
     "metadata": {},
     "output_type": "display_data"
    },
    {
     "name": "stdout",
     "output_type": "stream",
     "text": [
      "Prediction:  [2]\n",
      "Label:  4\n"
     ]
    },
    {
     "data": {
      "image/png": "[encoded data removed]",
      "text/plain": [
       "<Figure size 640x480 with 1 Axes>"
      ]
     },
     "metadata": {},
     "output_type": "display_data"
    },
    {
     "name": "stdout",
     "output_type": "stream",
     "text": [
      "Prediction:  [8]\n",
      "Label:  9\n"
     ]
    },
    {
     "data": {
      "image/png": "[encoded data removed]",
      "text/plain": [
       "<Figure size 640x480 with 1 Axes>"
      ]
     },
     "metadata": {},
     "output_type": "display_data"
    },
    {
     "name": "stdout",
     "output_type": "stream",
     "text": [
      "Prediction:  [9]\n",
      "Label:  3\n"
     ]
    },
    {
     "data": {
      "image/png": "[encoded data removed]",
      "text/plain": [
       "<Figure size 640x480 with 1 Axes>"
      ]
     },
     "metadata": {},
     "output_type": "display_data"
    },
    {
     "name": "stdout",
     "output_type": "stream",
     "text": [
      "Prediction:  [7]\n",
      "Label:  9\n"
     ]
    },
    {
     "data": {
      "image/png": "[encoded data removed]",
      "text/plain": [
       "<Figure size 640x480 with 1 Axes>"
      ]
     },
     "metadata": {},
     "output_type": "display_data"
    },
    {
     "name": "stdout",
     "output_type": "stream",
     "text": [
      "Prediction:  [7]\n",
      "Label:  1\n"
     ]
    },
    {
     "data": {
      "image/png": "[encoded data removed]",
      "text/plain": [
       "<Figure size 640x480 with 1 Axes>"
      ]
     },
     "metadata": {},
     "output_type": "display_data"
    },
    {
     "name": "stdout",
     "output_type": "stream",
     "text": [
      "Prediction:  [5]\n",
      "Label:  8\n"
     ]
    },
    {
     "data": {
      "image/png": "[encoded data removed]",
      "text/plain": [
       "<Figure size 640x480 with 1 Axes>"
      ]
     },
     "metadata": {},
     "output_type": "display_data"
    },
    {
     "name": "stdout",
     "output_type": "stream",
     "text": [
      "Prediction:  [5]\n",
      "Label:  0\n"
     ]
    },
    {
     "data": {
      "image/png": "[encoded data removed]",
      "text/plain": [
       "<Figure size 640x480 with 1 Axes>"
      ]
     },
     "metadata": {},
     "output_type": "display_data"
    },
    {
     "name": "stdout",
     "output_type": "stream",
     "text": [
      "Prediction:  [6]\n",
      "Label:  0\n"
     ]
    },
    {
     "data": {
      "image/png": "[encoded data removed]",
      "text/plain": [
       "<Figure size 640x480 with 1 Axes>"
      ]
     },
     "metadata": {},
     "output_type": "display_data"
    },
    {
     "name": "stdout",
     "output_type": "stream",
     "text": [
      "Prediction:  [3]\n",
      "Label:  8\n"
     ]
    },
    {
     "data": {
      "image/png": "[encoded data removed]",
      "text/plain": [
       "<Figure size 640x480 with 1 Axes>"
      ]
     },
     "metadata": {},
     "output_type": "display_data"
    },
    {
     "name": "stdout",
     "output_type": "stream",
     "text": [
      "Prediction:  [0]\n",
      "Label:  2\n"
     ]
    },
    {
     "data": {
      "image/png": "[encoded data removed]",
      "text/plain": [
       "<Figure size 640x480 with 1 Axes>"
      ]
     },
     "metadata": {},
     "output_type": "display_data"
    }
   ],
   "source": [
    "# let's look at SOME predictions we got wrong\n",
    "for i in range(100):\n",
    "    wrong_test_predictions(i, W1, b1, W2, b2)"
   ]
  }
 ],
 "metadata": {
  "kernelspec": {
   "display_name": "Python 3",
   "language": "python",
   "name": "python3"
  },
  "language_info": {
   "codemirror_mode": {
    "name": "ipython",
    "version": 3
   },
   "file_extension": ".py",
   "mimetype": "text/x-python",
   "name": "python",
   "nbconvert_exporter": "python",
   "pygments_lexer": "ipython3",
   "version": "3.10.8"
  },
  "orig_nbformat": 4
 },
 "nbformat": 4,
 "nbformat_minor": 2
}
